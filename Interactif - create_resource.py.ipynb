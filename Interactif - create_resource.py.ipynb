{
 "cells": [
  {
   "cell_type": "code",
   "execution_count": null,
   "id": "7a57edcb-085f-47e1-99d3-7db29e0a1521",
   "metadata": {},
   "outputs": [],
   "source": [
    "import pyxel\n",
    "min_size = 4  # Taille minimale mise à jour\n",
    "max_size = 12  # Taille maximale mise à jour\n",
    "self.taille = 12  # Taille de la fenêtre\n",
    "width = 12 * 32\n",
    "height = 5*32+200\n",
    "class App:\n",
    "    def __init__(self):\n",
    "        self.taille = 12 \n",
    "        pyxel.init(width,height,title=\"PYTHOMINOES\",display_scale=2,fps=30)\n",
    "\n",
    "\n",
    "\n",
    "    def update(self):\n",
    "        if pyxel.btnp(pyxel.KEY_RIGHT) and self.taille < max_size:\n",
    "            self.taille += 1\n",
    "        elif pyxel.btnp(pyxel.KEY_LEFT) and self.taille > min_size:\n",
    "            self.taille-= 1\n",
    "\n",
    "    def draw(self):\n",
    "        pyxel.cls(7)\n",
    "        x = 200\n",
    "        y = 200\n",
    "        pyxel.rectb(x,y=y,w=20,h=20,col=0)\n",
    "        for i in range (self.taille -1):\n",
    "                x = i + 20\n",
    "                pyxel.rectb(x,y,20,20,0)\n",
    "        # pyxel.rectb(200,y=200,Cell_SIZE=20,Cell_SIZE=20,0)\n",
    "\n",
    "        # start_x = (WIDTH - self.board_size * CELL_SIZE) // 2\n",
    "        # start_y = (HEIGHT - self.board_size * CELL_SIZE) // 2\n",
    "\n",
    "        # # Dessiner le plateau\n",
    "        # for row in range(self.board_size):\n",
    "        #     for col in range(self.board_size):\n",
    "        #         x = start_x + col * CELL_SIZE\n",
    "        #         y = start_y + row * CELL_SIZE\n",
    "        #         pyxel.rectb(x, y, CELL_SIZE, CELL_SIZE, 0)  # Dessiner un rectangle noir (0)\n",
    "\n",
    "app = App()\n",
    "pyxel.run(app.update, app.draw)"
   ]
  }
 ],
 "metadata": {
  "kernelspec": {
   "display_name": ".venv",
   "language": "python",
   "name": "python3"
  },
  "language_info": {
   "name": "python",
   "version": "3.13.3"
  }
 },
 "nbformat": 4,
 "nbformat_minor": 5
}
